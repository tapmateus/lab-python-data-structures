{
 "cells": [
  {
   "cell_type": "markdown",
   "metadata": {
    "tags": []
   },
   "source": [
    "# Lab | Data Structures "
   ]
  },
  {
   "cell_type": "markdown",
   "metadata": {},
   "source": [
    "## Exercise: Managing Customer Orders\n",
    "\n",
    "As part of a business venture, you are starting an online store that sells various products. To ensure smooth operations, you need to develop a program that manages customer orders and inventory.\n",
    "\n",
    "Follow the steps below to complete the exercise:\n",
    "\n",
    "1. Define a list called `products` that contains the following items: \"t-shirt\", \"mug\", \"hat\", \"book\", \"keychain\".\n",
    "\n",
    "2. Create an empty dictionary called `inventory`.\n",
    "\n",
    "3. Ask the user to input the quantity of each product available in the inventory. Use the product names from the `products` list as keys in the `inventory` dictionary and assign the respective quantities as values.\n",
    "\n",
    "4. Create an empty set called `customer_orders`.\n",
    "\n",
    "5. Ask the user to input the name of three products that a customer wants to order (from those in the products list, meaning three products out of \"t-shirt\", \"mug\", \"hat\", \"book\" or \"keychain\". Add each product name to the `customer_orders` set.\n",
    "\n",
    "6. Print the products in the `customer_orders` set.\n",
    "\n",
    "7. Calculate the following order statistics:\n",
    "   - Total Products Ordered: The total number of products in the `customer_orders` set.\n",
    "   - Percentage of Products Ordered: The percentage of products ordered compared to the total available products.\n",
    "   \n",
    "   Store these statistics in a tuple called `order_status`.\n",
    "\n",
    "8. Print the order statistics using the following format:\n",
    "   ```\n",
    "   Order Statistics:\n",
    "   Total Products Ordered: <total_products_ordered>\n",
    "   Percentage of Products Ordered: <percentage_ordered>% \n",
    "   ```\n",
    "\n",
    "9. Update the inventory by subtracting 1 from the quantity of each product. Modify the `inventory` dictionary accordingly.\n",
    "\n",
    "10. Print the updated inventory, displaying the quantity of each product on separate lines.\n",
    "\n",
    "Solve the exercise by implementing the steps using the Python concepts of lists, dictionaries, sets, and basic input/output operations. "
   ]
  },
  {
   "cell_type": "code",
   "execution_count": 2,
   "metadata": {},
   "outputs": [
    {
     "name": "stdout",
     "output_type": "stream",
     "text": [
      "Insert quantity of t-shirt: 32434\n",
      "Insert quantity of mug: 2344\n",
      "Insert quantity of hat: 23423\n",
      "Insert quantity of book: 23423\n",
      "Insert quantity of keychain: 23423\n",
      "['32434', '2344', '23423', '23423', '23423']\n",
      "{'t-shirt': '32434', 'mug': '2344', 'hat': '23423', 'book': '23423', 'keychain': '23423'}\n",
      "Insert the products to order as 'keychain, hat, book': keychain, hat, book\n",
      "{'keychain', ' book', ' hat'}\n",
      "Order Statistics:\n",
      "Total Products Ordered: 3\n",
      "Percentage of Products Ordered: 0.6\n",
      "{'t-shirt': 32433, 'mug': 2343, 'hat': 23422, 'book': 23422, 'keychain': 23422}\n"
     ]
    }
   ],
   "source": [
    "#1. Define a list called products\n",
    "products = [\"t-shirt\", \"mug\", \"hat\", \"book\", \"keychain\"]\n",
    "\n",
    "#2. Create an empty dictionary called inventory\n",
    "inventory = {}\n",
    "\n",
    "#3. Ask the user to input the quantity of each product available in the inventory\n",
    "quantitylist = []\n",
    "for product in products:\n",
    "    quantity = input(f\"Insert quantity of {product}: \")\n",
    "    quantitylist.append(quantity)\n",
    "\n",
    "print(quantitylist)\n",
    "\n",
    "x=0\n",
    "for item in products:\n",
    "    inventory[item] = quantitylist[x]\n",
    "    x+=1\n",
    "\n",
    "print(inventory)\n",
    "\n",
    "#4. Create an empty set called customer_orders\n",
    "customer_orders = set()\n",
    "\n",
    "#5. Ask the user to input the name of three products that a customer wants to order\n",
    "customerorders = input(\"Insert the products to order as 'keychain, hat, book': \")\n",
    "customer_orders = set(customerorders.split(\",\")) \n",
    "\n",
    "#6. Print the products in the customer_orders set.\n",
    "print(customer_orders)\n",
    "\n",
    "#7. Calculate the following order statistics:\n",
    "#Total products\n",
    "total_ordered = len(customer_orders)\n",
    "percentage_ordered = len(customer_orders)/(len(products))\n",
    "order_status = (total_ordered, percentage_ordered)\n",
    "\n",
    "#8. Print the order statistics\n",
    "print(f\"\"\"Order Statistics:\n",
    "Total Products Ordered: {total_ordered}\n",
    "Percentage of Products Ordered: {percentage_ordered}\"\"\")\n",
    "\n",
    "#9. Update the inventory by subtracting 1 from the quantity of each product\n",
    "newquantitylst = []\n",
    "for i in quantitylist:\n",
    "    x = int(i) - 1\n",
    "    newquantitylst.append(x)\n",
    "\n",
    "x = 0\n",
    "for i in products:\n",
    "    inventory[i] = newquantitylst[x]\n",
    "    x += 1\n",
    "\n",
    "#10. Print the updated inventory\n",
    "print(inventory)"
   ]
  },
  {
   "cell_type": "markdown",
   "metadata": {},
   "source": [
    "## "
   ]
  }
 ],
 "metadata": {
  "kernelspec": {
   "display_name": "Python 3 (ipykernel)",
   "language": "python",
   "name": "python3"
  },
  "language_info": {
   "codemirror_mode": {
    "name": "ipython",
    "version": 3
   },
   "file_extension": ".py",
   "mimetype": "text/x-python",
   "name": "python",
   "nbconvert_exporter": "python",
   "pygments_lexer": "ipython3",
   "version": "3.10.9"
  }
 },
 "nbformat": 4,
 "nbformat_minor": 4
}
